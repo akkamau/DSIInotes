{
 "cells": [
  {
   "cell_type": "code",
   "execution_count": 1,
   "metadata": {},
   "outputs": [
    {
     "name": "stdout",
     "output_type": "stream",
     "text": [
      "set of numbers {0, 1, 2, 3, 4, 5, 6, 7, 8, 9}\n"
     ]
    }
   ],
   "source": [
    "# generate a set of nummbers using numpy\n",
    "import numpy as np\n",
    "\n",
    "set_numbers = set(np.arange(0,10))\n",
    "print(\"set of numbers {}\".format(set_numbers))"
   ]
  },
  {
   "cell_type": "code",
   "execution_count": 2,
   "metadata": {},
   "outputs": [
    {
     "name": "stdout",
     "output_type": "stream",
     "text": [
      "set of numbers only {0, 1, 2, 5, 7, 8, 9}\n"
     ]
    }
   ],
   "source": [
    "arr = [9,'g', 'h', 7, 5,'b', 8,'d', 0,'f', 1, 8,'e', 0,'a', 9, 2]\n",
    "\n",
    "set_array = set(arr)\n",
    "\n",
    "# using intesection of set isolate the numbers in both sets\n",
    "\n",
    "set_numbers_only = set_numbers & set_array\n",
    "print(\"set of numbers only {}\".format(set_numbers_only))"
   ]
  },
  {
   "cell_type": "code",
   "execution_count": 3,
   "metadata": {},
   "outputs": [
    {
     "name": "stdout",
     "output_type": "stream",
     "text": [
      "{'e', 'f', 'h', 'g', 'b', 'a', 'd'}\n"
     ]
    }
   ],
   "source": [
    "# set of letters only\n",
    "set\n",
    "set_letters_only = set_array - set_numbers_only\n",
    "print(set_letters_only)"
   ]
  },
  {
   "cell_type": "code",
   "execution_count": 4,
   "metadata": {},
   "outputs": [
    {
     "name": "stdout",
     "output_type": "stream",
     "text": [
      "A set of 2 characters and all integers: {0, 1, 2, 'e', 5, 7, 8, 9, 'd'}\n"
     ]
    }
   ],
   "source": [
    "#A set of any 2 characters and all integers from arr, name it \"2char_int_set\"\n",
    "char2_set =set(['d', 'e'])\n",
    "char_int_set= char2_set | set_numbers_only\n",
    "print(\"A set of 2 characters and all integers: {}\".format(char_int_set))"
   ]
  },
  {
   "cell_type": "code",
   "execution_count": 17,
   "metadata": {},
   "outputs": [
    {
     "name": "stdout",
     "output_type": "stream",
     "text": [
      "A set of any 2 ints and any 3 characters from arr:{1, 7, 'e', 'f', 'b'}\n"
     ]
    }
   ],
   "source": [
    "# A set of any 2 ints and any 3 characters from arr, name it \"2char_3int_set\"\n",
    "import random\n",
    "\n",
    "# set the random seed set to 1\n",
    "random.seed(1)\n",
    "char3_set=random.sample(set_letters_only,3)\n",
    "char3_set=set(char3_set)\n",
    "\n",
    "random.seed(1)\n",
    "int3_set=random.sample(set_numbers_only,2)\n",
    "int3_set=set(int3_set)\n",
    "\n",
    "#combine the int3_set and char3_set using the union option sets\n",
    "char_3int_set=char3_set|int3_set\n",
    "print(\"A set of any 2 ints and any 3 characters from arr:{}\".format(char_3int_set))"
   ]
  },
  {
   "cell_type": "code",
   "execution_count": 25,
   "metadata": {},
   "outputs": [
    {
     "name": "stdout",
     "output_type": "stream",
     "text": [
      "A set named  that includes all objects: {0, 1, 2, 5, 'e', 'f', 8, 9, 'h', 'b', 'a'}\n"
     ]
    }
   ],
   "source": [
    "# A set named \"random_set\": that includes all objects in arr except 'g', 'd', 7, 3\n",
    "set_except={'g', 'd', 7, 3}\n",
    "random_set =set_array-set_except\n",
    "print(\"A set named random_set that includes all objects: {}\".format(random_set))"
   ]
  },
  {
   "cell_type": "markdown",
   "metadata": {},
   "source": [
    "# PART2"
   ]
  },
  {
   "cell_type": "code",
   "execution_count": 29,
   "metadata": {},
   "outputs": [],
   "source": [
    "P = [4,6,12,1,6,7,14,17,5,13,8,9,19,16,19,5,15,15,0,18]\n",
    "S = [5,0,3,11,3,7,9,3,5,2]\n",
    "\n",
    "P=set(P)\n",
    "S=set(S)"
   ]
  },
  {
   "cell_type": "code",
   "execution_count": 30,
   "metadata": {},
   "outputs": [
    {
     "data": {
      "text/plain": [
       "False"
      ]
     },
     "execution_count": 30,
     "metadata": {},
     "output_type": "execute_result"
    }
   ],
   "source": [
    "# Check if S is the subset of P\n",
    "S.issubset(P)"
   ]
  },
  {
   "cell_type": "code",
   "execution_count": 32,
   "metadata": {},
   "outputs": [
    {
     "name": "stdout",
     "output_type": "stream",
     "text": [
      "[6, 13, 17, 16, 1, 19, 15]\n"
     ]
    }
   ],
   "source": [
    "# create a new set with elements of S which also exist in P, using set operations.\n",
    "random.seed(1)\n",
    "S_subset =random.sample(P,7)\n",
    "print(S_subset)"
   ]
  },
  {
   "cell_type": "code",
   "execution_count": 33,
   "metadata": {},
   "outputs": [
    {
     "data": {
      "text/plain": [
       "{0, 1, 2, 3, 4, 5, 6, 7, 8, 9, 11, 12, 13, 14, 15, 16, 17, 18, 19}"
      ]
     },
     "execution_count": 33,
     "metadata": {},
     "output_type": "execute_result"
    }
   ],
   "source": [
    "# Union of Sets - S  ∪  P\n",
    "set_union=S|P\n",
    "print(set_union)"
   ]
  },
  {
   "cell_type": "code",
   "execution_count": 35,
   "metadata": {},
   "outputs": [
    {
     "name": "stdout",
     "output_type": "stream",
     "text": [
      "{0, 9, 5, 7}\n"
     ]
    }
   ],
   "source": [
    "# Intersection of Sets - S  ∩  P\n",
    "set_intesection=S&P\n",
    "print(set_intesection)\n"
   ]
  },
  {
   "cell_type": "code",
   "execution_count": 38,
   "metadata": {},
   "outputs": [
    {
     "name": "stdout",
     "output_type": "stream",
     "text": [
      "{11, 2, 3}\n",
      "{1, 4, 6, 8, 12, 13, 14, 15, 16, 17, 18, 19}\n"
     ]
    }
   ],
   "source": [
    "# Difference of Sets - Both S-P and P-S\n",
    "SP= S-P\n",
    "print(SP)\n",
    "PS =P-S\n",
    "print(PS)"
   ]
  },
  {
   "cell_type": "code",
   "execution_count": null,
   "metadata": {},
   "outputs": [],
   "source": []
  }
 ],
 "metadata": {
  "kernelspec": {
   "display_name": "Python 3",
   "language": "python",
   "name": "python3"
  },
  "language_info": {
   "codemirror_mode": {
    "name": "ipython",
    "version": 3
   },
   "file_extension": ".py",
   "mimetype": "text/x-python",
   "name": "python",
   "nbconvert_exporter": "python",
   "pygments_lexer": "ipython3",
   "version": "3.8.5"
  }
 },
 "nbformat": 4,
 "nbformat_minor": 4
}
